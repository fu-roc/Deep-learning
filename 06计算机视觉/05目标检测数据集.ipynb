{
 "cells": [
  {
   "cell_type": "code",
   "id": "initial_id",
   "metadata": {
    "collapsed": true,
    "ExecuteTime": {
     "end_time": "2024-06-04T08:19:32.216310Z",
     "start_time": "2024-06-04T08:19:32.201749Z"
    }
   },
   "source": [
    "%matplotlib inline\n",
    "import os\n",
    "import pandas as pd\n",
    "import torch\n",
    "import torchvision\n",
    "from d2l import torch as d2l\n",
    "\n",
    "#@save\n",
    "d2l.DATA_HUB['banana-detection'] = (\n",
    "    d2l.DATA_URL + 'banana-detection.zip',\n",
    "    '5de26c8fce5ccdea9f91267273464dc968d20d72')"
   ],
   "outputs": [],
   "execution_count": 2
  },
  {
   "metadata": {
    "ExecuteTime": {
     "end_time": "2024-06-04T08:45:20.063347Z",
     "start_time": "2024-06-04T08:45:20.058332Z"
    }
   },
   "cell_type": "code",
   "source": [
    "def read_data_bananas(is_train=True):\n",
    "    data_dir = d2l.download_extract('banana-detection')\n",
    "    csv_fname = os.path.join(data_dir, 'bananas_train' if is_train else 'bananas_val', 'label.csv')\n",
    "    csv_data = pd.read_csv(csv_fname)\n",
    "    csv_data = csv_data.set_index('img_name')\n",
    "    images, targets = [], []\n",
    "    for img_name, target in csv_data.iterrows():\n",
    "        images.append(torchvision.io.read_image(os.path.join(data_dir, 'bananas_train' if is_train else 'bananas_val', 'images', f'{img_name}')))\n",
    "        targets.append(list(target))\n",
    "    return images, torch.tensor(targets).unsqueeze(1) / 256"
   ],
   "id": "eb84be5d56196013",
   "outputs": [],
   "execution_count": 11
  },
  {
   "metadata": {
    "ExecuteTime": {
     "end_time": "2024-06-04T08:38:10.229039Z",
     "start_time": "2024-06-04T08:38:10.222071Z"
    }
   },
   "cell_type": "code",
   "source": [
    "class BananasDataset(torch.utils.data.Dataset):\n",
    "    def __init__(self, is_train):\n",
    "        self.features, self.labels = read_data_bananas(is_train)\n",
    "        print('read' + str(len(self.features)) + (f' training examples' if is_train else f' validation examples'))\n",
    "    \n",
    "    def __getitem__(self, idx):\n",
    "        return self.features[idx].float(), self.labels[idx]\n",
    "    \n",
    "    def __len__(self):\n",
    "        return len(self.features)"
   ],
   "id": "e1098f0733a39691",
   "outputs": [],
   "execution_count": 4
  },
  {
   "metadata": {
    "ExecuteTime": {
     "end_time": "2024-06-04T08:40:13.580887Z",
     "start_time": "2024-06-04T08:40:13.565872Z"
    }
   },
   "cell_type": "code",
   "source": [
    "def load_data_bananas(batch_size):\n",
    "    train_iter = torch.utils.data.DataLoader(BananasDataset(is_train=True), batch_size=batch_size, shuffle=True)\n",
    "    val_iter = torch.utils.data.DataLoader(BananasDataset(is_train=False), batch_size=batch_size)\n",
    "    return train_iter, val_iter"
   ],
   "id": "b86974cb26fa07c1",
   "outputs": [],
   "execution_count": 5
  },
  {
   "metadata": {
    "ExecuteTime": {
     "end_time": "2024-06-04T08:45:25.443449Z",
     "start_time": "2024-06-04T08:45:22.728888Z"
    }
   },
   "cell_type": "code",
   "source": [
    "batch_size, edge_size = 32, 256\n",
    "train_iter, _ = load_data_bananas(batch_size)\n",
    "batch = next(iter(train_iter))\n",
    "batch[0].shape, batch[1].shape"
   ],
   "id": "78beeea4cfc3ed4b",
   "outputs": [
    {
     "name": "stdout",
     "output_type": "stream",
     "text": [
      "read1000 training examples\n",
      "read100 validation examples\n"
     ]
    },
    {
     "data": {
      "text/plain": [
       "(torch.Size([32, 3, 256, 256]), torch.Size([32, 1, 5]))"
      ]
     },
     "execution_count": 12,
     "metadata": {},
     "output_type": "execute_result"
    }
   ],
   "execution_count": 12
  },
  {
   "metadata": {},
   "cell_type": "code",
   "outputs": [],
   "execution_count": null,
   "source": "",
   "id": "4e072cf1daad567"
  }
 ],
 "metadata": {
  "kernelspec": {
   "display_name": "Python 3",
   "language": "python",
   "name": "python3"
  },
  "language_info": {
   "codemirror_mode": {
    "name": "ipython",
    "version": 2
   },
   "file_extension": ".py",
   "mimetype": "text/x-python",
   "name": "python",
   "nbconvert_exporter": "python",
   "pygments_lexer": "ipython2",
   "version": "2.7.6"
  }
 },
 "nbformat": 4,
 "nbformat_minor": 5
}
