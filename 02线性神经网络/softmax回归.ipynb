{
 "cells": [
  {
   "cell_type": "code",
   "execution_count": 1,
   "id": "ecae945c7f770312",
   "metadata": {
    "ExecuteTime": {
     "end_time": "2024-05-11T05:15:57.543426Z",
     "start_time": "2024-05-11T05:15:51.226599Z"
    }
   },
   "source": [
    "%matplotlib inline\n",
    "import torch\n",
    "import torchvision\n",
    "from torch.utils import data\n",
    "from torchvision import transforms\n",
    "from d2l import torch as d2l\n",
    "\n",
    "d2l.use_svg_display()"
   ],
   "outputs": []
  },
  {
   "cell_type": "code",
   "execution_count": 2,
   "id": "981b3925d0a828cc",
   "metadata": {
    "ExecuteTime": {
     "end_time": "2024-05-11T05:15:57.623443Z",
     "start_time": "2024-05-11T05:15:57.544427Z"
    }
   },
   "source": [
    "# 通过ToTensor实例将图像数据从PIL类型变换成32位浮点数格式，\n",
    "# 并除以255使得所有像素的数值均在0～1之间\n",
    "trans = transforms.ToTensor()\n",
    "mnist_train = torchvision.datasets.FashionMNIST(\n",
    "    root=\"../data\", train=True, transform=trans, download=True)\n",
    "mnist_test = torchvision.datasets.FashionMNIST(\n",
    "    root=\"../data\", train=False, transform=trans, download=True)"
   ],
   "outputs": []
  },
  {
   "cell_type": "code",
   "execution_count": 3,
   "id": "c9f4bc952171ab2c",
   "metadata": {
    "ExecuteTime": {
     "end_time": "2024-05-11T05:15:57.639446Z",
     "start_time": "2024-05-11T05:15:57.624443Z"
    }
   },
   "source": [
    "len(mnist_train), len(mnist_test)"
   ],
   "outputs": []
  },
  {
   "cell_type": "code",
   "execution_count": 4,
   "id": "34c0b92d2f7cd8",
   "metadata": {
    "ExecuteTime": {
     "end_time": "2024-05-11T05:15:57.655450Z",
     "start_time": "2024-05-11T05:15:57.641447Z"
    }
   },
   "source": [
    "def get_fashion_mnist_labels(labels):  #@save\n",
    "    \"\"\"返回Fashion-MNIST数据集的文本标签\"\"\"\n",
    "    text_labels = ['t-shirt', 'trouser', 'pullover', 'dress', 'coat',\n",
    "                   'sandal', 'shirt', 'sneaker', 'bag', 'ankle boot']\n",
    "    return [text_labels[int(i)] for i in labels]"
   ],
   "outputs": []
  },
  {
   "cell_type": "code",
   "execution_count": 5,
   "id": "bbe88ee8df845858",
   "metadata": {
    "ExecuteTime": {
     "end_time": "2024-05-11T05:15:57.670453Z",
     "start_time": "2024-05-11T05:15:57.657451Z"
    }
   },
   "source": [
    "def show_images(imgs, num_rows, num_cols, titles=None, scale=1.5):  #@save\n",
    "    \"\"\"绘制图像列表\"\"\"\n",
    "    figsize = (num_cols * scale, num_rows * scale)\n",
    "    _, axes = d2l.plt.subplots(num_rows, num_cols, figsize=figsize)\n",
    "    axes = axes.flatten()\n",
    "    for i, (ax, img) in enumerate(zip(axes, imgs)):\n",
    "        if torch.is_tensor(img):\n",
    "            # 图片张量\n",
    "            ax.imshow(img.numpy())\n",
    "        else:\n",
    "            # PIL图片\n",
    "            ax.imshow(img)\n",
    "        ax.axes.get_xaxis().set_visible(False)\n",
    "        ax.axes.get_yaxis().set_visible(False)\n",
    "        if titles:\n",
    "            ax.set_title(titles[i])\n",
    "    return axes"
   ],
   "outputs": []
  },
  {
   "cell_type": "code",
   "execution_count": 6,
   "id": "50222a414f90914c",
   "metadata": {
    "ExecuteTime": {
     "end_time": "2024-05-11T05:15:58.148226Z",
     "start_time": "2024-05-11T05:15:57.671454Z"
    }
   },
   "source": [
    "X, y = next(iter(data.DataLoader(mnist_train, batch_size=18)))\n",
    "show_images(X.reshape(18, 28, 28), 2, 9, titles=get_fashion_mnist_labels(y));"
   ],
   "outputs": []
  },
  {
   "cell_type": "code",
   "execution_count": 7,
   "id": "2e4117a4d4814c7f",
   "metadata": {
    "ExecuteTime": {
     "end_time": "2024-05-11T05:15:58.163318Z",
     "start_time": "2024-05-11T05:15:58.149225Z"
    }
   },
   "source": [
    "batch_size = 256\n",
    "\n",
    "def get_dataloader_workers():  #@save\n",
    "    \"\"\"使用4个进程来读取数据\"\"\"\n",
    "    return 32\n",
    "\n",
    "train_iter = data.DataLoader(mnist_train, batch_size, shuffle=True,\n",
    "                             num_workers=get_dataloader_workers())"
   ],
   "outputs": []
  },
  {
   "cell_type": "code",
   "execution_count": 8,
   "id": "34a9ab9eab092916",
   "metadata": {
    "ExecuteTime": {
     "end_time": "2024-05-11T05:16:05.632230Z",
     "start_time": "2024-05-11T05:15:58.164318Z"
    }
   },
   "source": [
    "timer = d2l.Timer()\n",
    "for X, y in train_iter:\n",
    "    continue\n",
    "f'{timer.stop():.2f} sec'"
   ],
   "outputs": []
  },
  {
   "cell_type": "code",
   "execution_count": 9,
   "id": "d6103d97bbad4830",
   "metadata": {
    "ExecuteTime": {
     "end_time": "2024-05-11T05:16:05.647855Z",
     "start_time": "2024-05-11T05:16:05.632230Z"
    }
   },
   "source": [
    "def load_data_fashion_mnist(batch_size, resize=None):  #@save\n",
    "    \"\"\"下载Fashion-MNIST数据集，然后将其加载到内存中\"\"\"\n",
    "    trans = [transforms.ToTensor()]\n",
    "    if resize:\n",
    "        trans.insert(0, transforms.Resize(resize))\n",
    "    trans = transforms.Compose(trans)\n",
    "    mnist_train = torchvision.datasets.FashionMNIST(\n",
    "        root=\"../data\", train=True, transform=trans, download=True)\n",
    "    mnist_test = torchvision.datasets.FashionMNIST(\n",
    "        root=\"../data\", train=False, transform=trans, download=True)\n",
    "    return (data.DataLoader(mnist_train, batch_size, shuffle=True,\n",
    "                            num_workers=get_dataloader_workers()),\n",
    "            data.DataLoader(mnist_test, batch_size, shuffle=False,\n",
    "                            num_workers=get_dataloader_workers()))"
   ],
   "outputs": []
  },
  {
   "cell_type": "markdown",
   "id": "5b7a80af0e192ae7",
   "metadata": {},
   "source": [
    "# softmax回归从零实现"
   ]
  },
  {
   "cell_type": "code",
   "execution_count": 10,
   "id": "a19f796a84057ad8",
   "metadata": {
    "ExecuteTime": {
     "end_time": "2024-05-11T05:16:05.663482Z",
     "start_time": "2024-05-11T05:16:05.647855Z"
    }
   },
   "source": [
    "import torch\n",
    "from IPython import display\n",
    "from d2l import torch as d2l"
   ],
   "outputs": []
  },
  {
   "cell_type": "code",
   "execution_count": 11,
   "id": "7f15db2a037f931f",
   "metadata": {
    "ExecuteTime": {
     "end_time": "2024-05-11T05:16:05.706646Z",
     "start_time": "2024-05-11T05:16:05.663482Z"
    }
   },
   "source": [
    "batch_size = 256\n",
    "train_iter, test_iter = load_data_fashion_mnist(batch_size)"
   ],
   "outputs": []
  },
  {
   "cell_type": "code",
   "execution_count": 12,
   "id": "7dba5871ef2ab118",
   "metadata": {
    "ExecuteTime": {
     "end_time": "2024-05-11T05:16:05.722272Z",
     "start_time": "2024-05-11T05:16:05.706646Z"
    }
   },
   "source": [
    "num_inputs = 28 * 28\n",
    "num_outputs = 10\n",
    "W = torch.normal(0, 0.01, size = (num_inputs, num_outputs),requires_grad = True)\n",
    "b = torch.zeros(num_outputs, requires_grad = True)"
   ],
   "outputs": []
  },
  {
   "cell_type": "code",
   "execution_count": 13,
   "id": "50bea7aee38b7015",
   "metadata": {
    "ExecuteTime": {
     "end_time": "2024-05-11T05:45:39.178047Z",
     "start_time": "2024-05-11T05:45:39.162421Z"
    }
   },
   "source": [
    "def softmax(X):\n",
    "    X_exp = torch.exp(X)\n",
    "    return X_exp / X_exp.sum(1,keepdim=True)"
   ],
   "outputs": []
  },
  {
   "cell_type": "code",
   "execution_count": 14,
   "id": "9b213b50ab34591b",
   "metadata": {
    "ExecuteTime": {
     "end_time": "2024-05-11T05:16:05.754240Z",
     "start_time": "2024-05-11T05:16:05.741129Z"
    }
   },
   "source": [
    "def net(X):\n",
    "    return softmax(torch.matmul(X.reshape((-1, W.shape[0])), W) + b)"
   ],
   "outputs": []
  },
  {
   "cell_type": "code",
   "execution_count": 15,
   "id": "2ddabe850972370f",
   "metadata": {
    "ExecuteTime": {
     "end_time": "2024-05-11T05:16:05.769356Z",
     "start_time": "2024-05-11T05:16:05.756238Z"
    }
   },
   "source": [
    "def cross_entropy(y_hat, y):\n",
    "    return -torch.log(y_hat[range(len(y)), y])"
   ],
   "outputs": []
  },
  {
   "cell_type": "code",
   "execution_count": 16,
   "id": "b9f744eeb2374d99",
   "metadata": {
    "ExecuteTime": {
     "end_time": "2024-05-11T05:16:05.784507Z",
     "start_time": "2024-05-11T05:16:05.771355Z"
    }
   },
   "source": [
    "def accuracy(y_hat, y):\n",
    "    if len(y_hat.shape) > 1 and y_hat.shape[1] > 1:\n",
    "        y_hat = y_hat.argmax(axis=1)\n",
    "    cmp = y_hat.type(y.dtype) == y\n",
    "    return float(cmp.type(y.dtype).sum())"
   ],
   "outputs": []
  },
  {
   "cell_type": "code",
   "execution_count": 17,
   "id": "c6587b44cc6fa979",
   "metadata": {
    "ExecuteTime": {
     "end_time": "2024-05-11T05:16:05.800628Z",
     "start_time": "2024-05-11T05:16:05.785507Z"
    }
   },
   "source": [
    "y = torch.tensor([0, 2])\n",
    "y_hat = torch.tensor([[0.1, 0.3, 0.6], [0.3, 0.2, 0.5]])\n",
    "\n"
   ],
   "outputs": []
  },
  {
   "cell_type": "code",
   "execution_count": 18,
   "id": "3fdc98ad18554147",
   "metadata": {
    "ExecuteTime": {
     "end_time": "2024-05-11T05:16:05.830999Z",
     "start_time": "2024-05-11T05:16:05.802629Z"
    }
   },
   "source": [
    "accuracy(y_hat, y)"
   ],
   "outputs": []
  },
  {
   "cell_type": "code",
   "execution_count": 19,
   "id": "8daa719f20b97eae",
   "metadata": {
    "ExecuteTime": {
     "end_time": "2024-05-11T05:16:05.846144Z",
     "start_time": "2024-05-11T05:16:05.833Z"
    }
   },
   "source": [
    "class Accumulator:\n",
    "    '''在n个变量上累加'''\n",
    "    def __init__(self,n):\n",
    "        self.data = [0.0] * n\n",
    "    \n",
    "    def add(self,*args):\n",
    "        self.data = [a + float(b) for a, b in zip(self.data, args)]\n",
    "        \n",
    "    def reset(self):\n",
    "        self.data = [0.0] * len(self.data)\n",
    "    \n",
    "    def __getitem__(self, idx):\n",
    "        return self.data[idx]"
   ],
   "outputs": []
  },
  {
   "cell_type": "code",
   "execution_count": 20,
   "id": "c753604944153980",
   "metadata": {
    "ExecuteTime": {
     "end_time": "2024-05-11T05:45:42.211622Z",
     "start_time": "2024-05-11T05:45:42.178754Z"
    }
   },
   "source": [
    "def evaluate_accuracy(net, data_iter):\n",
    "    if isinstance(net, torch.nn.Module):\n",
    "        net.eval()\n",
    "    metric = Accumulator(2)\n",
    "    with torch.no_grad():\n",
    "        for X, y in data_iter:\n",
    "            metric.add(accuracy(net(X), y), y.numel())\n",
    "    return  metric[0] / metric[1]"
   ],
   "outputs": []
  },
  {
   "cell_type": "code",
   "execution_count": 21,
   "id": "8aaa22b2f7c53a0f",
   "metadata": {
    "ExecuteTime": {
     "end_time": "2024-05-11T05:46:01.686687Z",
     "start_time": "2024-05-11T05:45:54.708047Z"
    }
   },
   "source": [
    "evaluate_accuracy(net,test_iter)"
   ],
   "outputs": []
  },
  {
   "cell_type": "markdown",
   "id": "9995db4fecf79074",
   "metadata": {},
   "source": [
    "## 训练"
   ]
  },
  {
   "cell_type": "markdown",
   "id": "8fc56f9ef43aa8fc",
   "metadata": {},
   "source": []
  },
  {
   "cell_type": "code",
   "execution_count": 22,
   "id": "6c704d6f9f3aa1a3",
   "metadata": {
    "ExecuteTime": {
     "end_time": "2024-05-11T07:45:57.147441Z",
     "start_time": "2024-05-11T07:45:57.116501Z"
    }
   },
   "source": [
    "def train_epoch_ch3(net, train_iter, loss, updater):  #@save\n",
    "    \"\"\"训练模型一个迭代周期（定义见第3章）\"\"\"\n",
    "    # 将模型设置为训练模式\n",
    "    if isinstance(net, torch.nn.Module):\n",
    "        net.train()\n",
    "    # 训练损失总和、训练准确度总和、样本数\n",
    "    metric = Accumulator(3)\n",
    "    for X, y in train_iter:\n",
    "        # 计算梯度并更新参数\n",
    "        y_hat = net(X)\n",
    "        l = loss(y_hat, y)\n",
    "        if isinstance(updater, torch.optim.Optimizer):\n",
    "            # 使用PyTorch内置的优化器和损失函数\n",
    "            updater.zero_grad()\n",
    "            l.mean().backward()\n",
    "            updater.step()\n",
    "        else:\n",
    "            # 使用定制的优化器和损失函数\n",
    "            l.sum().backward()\n",
    "            updater(X.shape[0])\n",
    "        metric.add(float(l.sum()), accuracy(y_hat, y), y.numel())\n",
    "    # 返回训练损失和训练精度\n",
    "    return metric[0] / metric[2], metric[1] / metric[2]"
   ],
   "outputs": []
  },
  {
   "cell_type": "code",
   "execution_count": 23,
   "id": "27bbadfc01b188c2",
   "metadata": {
    "ExecuteTime": {
     "end_time": "2024-05-11T07:45:59.350059Z",
     "start_time": "2024-05-11T07:45:59.327824Z"
    }
   },
   "source": [
    "class Animator:  #@save\n",
    "    \"\"\"在动画中绘制数据\"\"\"\n",
    "    def __init__(self, xlabel=None, ylabel=None, legend=None, xlim=None,\n",
    "                 ylim=None, xscale='linear', yscale='linear',\n",
    "                 fmts=('-', 'm--', 'g-.', 'r:'), nrows=1, ncols=1,\n",
    "                 figsize=(3.5, 2.5)):\n",
    "        # 增量地绘制多条线\n",
    "        if legend is None:\n",
    "            legend = []\n",
    "        d2l.use_svg_display()\n",
    "        self.fig, self.axes = d2l.plt.subplots(nrows, ncols, figsize=figsize)\n",
    "        if nrows * ncols == 1:\n",
    "            self.axes = [self.axes, ]\n",
    "        # 使用lambda函数捕获参数\n",
    "        self.config_axes = lambda: d2l.set_axes(\n",
    "            self.axes[0], xlabel, ylabel, xlim, ylim, xscale, yscale, legend)\n",
    "        self.X, self.Y, self.fmts = None, None, fmts\n",
    "\n",
    "    def add(self, x, y):\n",
    "        # 向图表中添加多个数据点\n",
    "        if not hasattr(y, \"__len__\"):\n",
    "            y = [y]\n",
    "        n = len(y)\n",
    "        if not hasattr(x, \"__len__\"):\n",
    "            x = [x] * n\n",
    "        if not self.X:\n",
    "            self.X = [[] for _ in range(n)]\n",
    "        if not self.Y:\n",
    "            self.Y = [[] for _ in range(n)]\n",
    "        for i, (a, b) in enumerate(zip(x, y)):\n",
    "            if a is not None and b is not None:\n",
    "                self.X[i].append(a)\n",
    "                self.Y[i].append(b)\n",
    "        self.axes[0].cla()\n",
    "        for x, y, fmt in zip(self.X, self.Y, self.fmts):\n",
    "            self.axes[0].plot(x, y, fmt)\n",
    "        self.config_axes()\n",
    "        display.display(self.fig)\n",
    "        display.clear_output(wait=True)"
   ],
   "outputs": []
  },
  {
   "cell_type": "code",
   "execution_count": 24,
   "id": "6bf4d9d35a374d48",
   "metadata": {
    "ExecuteTime": {
     "end_time": "2024-05-11T07:49:22.280084Z",
     "start_time": "2024-05-11T07:49:22.264450Z"
    }
   },
   "source": [
    "def train_ch3(net, train_iter, test_iter, loss, num_epochs, updater):  #@save\n",
    "    \"\"\"训练模型（定义见第3章）\"\"\"\n",
    "    animator = Animator(xlabel='epoch', xlim=[1, num_epochs], ylim=[0.3, 0.9],\n",
    "                        legend=['train loss', 'train acc', 'test acc'])\n",
    "    for epoch in range(num_epochs):\n",
    "        train_metrics = train_epoch_ch3(net, train_iter, loss, updater)\n",
    "        test_acc = evaluate_accuracy(net, test_iter)\n",
    "        animator.add(epoch + 1, train_metrics + (test_acc,))\n",
    "    train_loss, train_acc = train_metrics\n",
    "    assert train_loss < 0.5, train_loss\n",
    "    assert train_acc <= 1 and train_acc > 0.7, train_acc\n",
    "    assert test_acc <= 1 and test_acc > 0.7, test_acc"
   ],
   "outputs": []
  },
  {
   "cell_type": "code",
   "execution_count": 25,
   "id": "63e3bbf8d6bf4f36",
   "metadata": {
    "ExecuteTime": {
     "end_time": "2024-05-11T07:49:32.673137Z",
     "start_time": "2024-05-11T07:49:32.657511Z"
    }
   },
   "source": [
    "lr = 0.1\n",
    "\n",
    "def updater(batch_size):\n",
    "    return d2l.sgd([W, b], lr, batch_size)"
   ],
   "outputs": []
  },
  {
   "cell_type": "code",
   "execution_count": 26,
   "id": "99b076ad5b4d87d4",
   "metadata": {},
   "source": [
    "num_epochs = 10\n",
    "train_ch3(net, train_iter, test_iter, cross_entropy, num_epochs, updater)"
   ],
   "outputs": []
  }
 ],
 "metadata": {
  "kernelspec": {
   "display_name": "Python 3 (ipykernel)",
   "language": "python",
   "name": "python3"
  },
  "language_info": {
   "codemirror_mode": {
    "name": "ipython",
    "version": 3
   },
   "file_extension": ".py",
   "mimetype": "text/x-python",
   "name": "python",
   "nbconvert_exporter": "python",
   "pygments_lexer": "ipython3",
   "version": "3.9.19"
  }
 },
 "nbformat": 4,
 "nbformat_minor": 5
}
