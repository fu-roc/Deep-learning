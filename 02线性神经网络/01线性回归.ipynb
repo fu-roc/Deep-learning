{
 "cells": [
  {
   "metadata": {
    "ExecuteTime": {
     "end_time": "2024-05-08T06:54:27.573829Z",
     "start_time": "2024-05-08T06:54:27.559826Z"
    }
   },
   "cell_type": "code",
   "source": [
    "%matplotlib inline\n",
    "import random\n",
    "import torch\n",
    "from d2l import torch as d2l"
   ],
   "id": "4d51abee64399f1b",
   "execution_count": 78,
   "outputs": []
  },
  {
   "metadata": {
    "ExecuteTime": {
     "end_time": "2024-05-08T06:54:27.637843Z",
     "start_time": "2024-05-08T06:54:27.631844Z"
    }
   },
   "cell_type": "code",
   "source": [
    "def synthetic_data(w, b, num_examples):\n",
    "    \"\"\"生成y = xw + b +噪声\"\"\"\n",
    "    x = torch.normal(0, 1, (num_examples, len(w)))\n",
    "    y = torch.matmul(x, w) + b\n",
    "    y += torch.normal(0, 0.01, y.shape)\n",
    "    return x, y.reshape((-1, 1))"
   ],
   "id": "7355f6074dfc134b",
   "execution_count": 79,
   "outputs": []
  },
  {
   "metadata": {
    "ExecuteTime": {
     "end_time": "2024-05-08T06:54:27.652847Z",
     "start_time": "2024-05-08T06:54:27.638843Z"
    }
   },
   "cell_type": "code",
   "source": [
    "true_w = torch.tensor([2 ,-3.4],dtype=torch.float)\n",
    "true_b = 4.2\n",
    "features, labels = synthetic_data(true_w, true_b, 1000)"
   ],
   "id": "3902c44b44e2b594",
   "execution_count": 80,
   "outputs": []
  },
  {
   "metadata": {
    "ExecuteTime": {
     "end_time": "2024-05-08T06:54:27.667852Z",
     "start_time": "2024-05-08T06:54:27.653847Z"
    }
   },
   "cell_type": "code",
   "source": "print(\"features\", features[0],'\\nlabels', labels[0])",
   "id": "7846228dd5646cce",
   "execution_count": 81,
   "outputs": []
  },
  {
   "metadata": {
    "ExecuteTime": {
     "end_time": "2024-05-08T06:54:27.763875Z",
     "start_time": "2024-05-08T06:54:27.669856Z"
    }
   },
   "cell_type": "code",
   "source": [
    "d2l.set_figsize()\n",
    "d2l.plt.scatter(features[:, 1].detach().numpy(), labels.detach().numpy(),1 )"
   ],
   "id": "da8691e852ba73eb",
   "execution_count": 82,
   "outputs": []
  },
  {
   "metadata": {
    "ExecuteTime": {
     "end_time": "2024-05-08T06:54:27.779879Z",
     "start_time": "2024-05-08T06:54:27.764876Z"
    }
   },
   "cell_type": "code",
   "source": [
    "# 生成迭代器\n",
    "def data_iter(batch_size, features, labels):\n",
    "    num_examples = len(features)\n",
    "    indices = torch.randperm(num_examples)\n",
    "    random.shuffle(indices)\n",
    "    for i in range(0,num_examples,batch_size):\n",
    "        batch_indices = torch.tensor(indices[i:min(i+batch_size,num_examples)])\n",
    "        yield features[batch_indices], labels[batch_indices]"
   ],
   "id": "67994a72a70da3dd",
   "execution_count": 83,
   "outputs": []
  },
  {
   "metadata": {
    "ExecuteTime": {
     "end_time": "2024-05-08T06:54:27.795883Z",
     "start_time": "2024-05-08T06:54:27.781879Z"
    }
   },
   "cell_type": "code",
   "source": "batch_size = 10",
   "id": "a1cb10701e646d7a",
   "execution_count": 84,
   "outputs": []
  },
  {
   "metadata": {
    "ExecuteTime": {
     "end_time": "2024-05-08T06:54:27.811886Z",
     "start_time": "2024-05-08T06:54:27.797883Z"
    }
   },
   "cell_type": "code",
   "source": [
    "for X, y in data_iter(batch_size, features, labels):\n",
    "    print(X, '\\n', y)\n",
    "    break"
   ],
   "id": "77ac707c3e2b4a13",
   "execution_count": 85,
   "outputs": []
  },
  {
   "metadata": {
    "ExecuteTime": {
     "end_time": "2024-05-08T06:54:27.827890Z",
     "start_time": "2024-05-08T06:54:27.812886Z"
    }
   },
   "cell_type": "code",
   "source": [
    "w = torch.normal(0,0.01, size=(2,1), requires_grad=True)\n",
    "b = torch.zeros(1,requires_grad=True)"
   ],
   "id": "eeeb9dc504083d7c",
   "execution_count": 86,
   "outputs": []
  },
  {
   "metadata": {
    "ExecuteTime": {
     "end_time": "2024-05-08T06:54:27.842959Z",
     "start_time": "2024-05-08T06:54:27.829890Z"
    }
   },
   "cell_type": "code",
   "source": [
    "# 线性回归模型\n",
    "def linear_regression(X, w, b):\n",
    "    return torch.matmul(X, w) + b"
   ],
   "id": "5415ef670f68304",
   "execution_count": 87,
   "outputs": []
  },
  {
   "metadata": {
    "ExecuteTime": {
     "end_time": "2024-05-08T06:54:27.858467Z",
     "start_time": "2024-05-08T06:54:27.844464Z"
    }
   },
   "cell_type": "code",
   "source": [
    "# 均方损失\n",
    "def square_loss(y_hat, y):\n",
    "    return (y_hat - y.reshape(y_hat.shape))**2 / 2"
   ],
   "id": "c8b97fb2becbbc25",
   "execution_count": 88,
   "outputs": []
  },
  {
   "metadata": {
    "ExecuteTime": {
     "end_time": "2024-05-08T06:54:27.873470Z",
     "start_time": "2024-05-08T06:54:27.860468Z"
    }
   },
   "cell_type": "code",
   "source": [
    "# 小批量随机梯度下降\n",
    "def sgd(params, lr, batch_size):\n",
    "    with torch.no_grad():\n",
    "        for param in params:\n",
    "            param -= lr * param.grad / batch_size\n",
    "            param.grad.zero_()"
   ],
   "id": "25637a223ef225e0",
   "execution_count": 89,
   "outputs": []
  },
  {
   "metadata": {
    "ExecuteTime": {
     "end_time": "2024-05-08T06:54:27.889474Z",
     "start_time": "2024-05-08T06:54:27.874471Z"
    }
   },
   "cell_type": "code",
   "source": [
    "lr = 0.03\n",
    "num_epochs = 5\n",
    "net = linear_regression\n",
    "loss = square_loss"
   ],
   "id": "3f0a394c29602c65",
   "execution_count": 90,
   "outputs": []
  },
  {
   "metadata": {
    "ExecuteTime": {
     "end_time": "2024-05-08T06:54:28.031506Z",
     "start_time": "2024-05-08T06:54:27.891475Z"
    }
   },
   "cell_type": "code",
   "source": [
    "for epoch in range(num_epochs):\n",
    "    for X, y in data_iter(batch_size, features, labels):\n",
    "        l = loss(net(X, w, b), y)\n",
    "        l.sum().backward()\n",
    "        sgd([w, b], lr, batch_size)\n",
    "    with torch.no_grad():\n",
    "        train_l = loss(net(features, w, b), labels)\n",
    "        print(f'epoch {epoch}, loss: {float(train_l.mean()):f}')"
   ],
   "id": "27104bcda2f0d0ab",
   "execution_count": 91,
   "outputs": []
  },
  {
   "metadata": {
    "ExecuteTime": {
     "end_time": "2024-05-08T06:54:28.047509Z",
     "start_time": "2024-05-08T06:54:28.032507Z"
    }
   },
   "cell_type": "code",
   "source": "w",
   "id": "1f099c57e400d532",
   "execution_count": 92,
   "outputs": []
  },
  {
   "metadata": {
    "ExecuteTime": {
     "end_time": "2024-05-08T06:54:28.063513Z",
     "start_time": "2024-05-08T06:54:28.050510Z"
    }
   },
   "cell_type": "code",
   "source": "b",
   "id": "3567f680e4dad8e5",
   "execution_count": 93,
   "outputs": []
  },
  {
   "metadata": {},
   "cell_type": "markdown",
   "source": "# 线性回归的简洁实现",
   "id": "2154a2842a712bda"
  },
  {
   "metadata": {
    "ExecuteTime": {
     "end_time": "2024-05-08T06:54:28.078516Z",
     "start_time": "2024-05-08T06:54:28.064513Z"
    }
   },
   "cell_type": "code",
   "source": [
    "import numpy as np\n",
    "import torch\n",
    "from torch.utils import data\n",
    "from d2l import torch as d2l"
   ],
   "id": "b90cf58d81685a3",
   "execution_count": 94,
   "outputs": []
  },
  {
   "metadata": {
    "ExecuteTime": {
     "end_time": "2024-05-08T06:54:28.093573Z",
     "start_time": "2024-05-08T06:54:28.079517Z"
    }
   },
   "cell_type": "code",
   "source": [
    "true_w = torch.tensor([2 ,-3.4])\n",
    "true_b = 4.2\n",
    "features, labels = synthetic_data(true_w, true_b, 1000)"
   ],
   "id": "8b415208af0342c0",
   "execution_count": 95,
   "outputs": []
  },
  {
   "metadata": {
    "ExecuteTime": {
     "end_time": "2024-05-08T06:54:28.109082Z",
     "start_time": "2024-05-08T06:54:28.095078Z"
    }
   },
   "cell_type": "code",
   "source": [
    "def load_array(data_array, batch_size, is_train=True):\n",
    "    \"\"\"构造一个迭代器\"\"\"\n",
    "    dataset = data.TensorDataset(*data_array)\n",
    "    return data.DataLoader(dataset, batch_size, shuffle=is_train)"
   ],
   "id": "c97e966464b3ea51",
   "execution_count": 96,
   "outputs": []
  },
  {
   "metadata": {
    "ExecuteTime": {
     "end_time": "2024-05-08T06:54:28.124098Z",
     "start_time": "2024-05-08T06:54:28.110082Z"
    }
   },
   "cell_type": "code",
   "source": [
    "batch_size = 10\n",
    "data_iter = load_array((features, labels), batch_size)\n",
    "next(iter(data_iter))"
   ],
   "id": "5cc6b2bb29457741",
   "execution_count": 97,
   "outputs": []
  },
  {
   "metadata": {
    "ExecuteTime": {
     "end_time": "2024-05-08T06:54:28.140101Z",
     "start_time": "2024-05-08T06:54:28.125098Z"
    }
   },
   "cell_type": "code",
   "source": [
    "from  torch import nn\n",
    "net = nn.Sequential(nn.Linear(2, 1))"
   ],
   "id": "a0c4fa82a14e8f76",
   "execution_count": 98,
   "outputs": []
  },
  {
   "metadata": {
    "ExecuteTime": {
     "end_time": "2024-05-08T06:54:28.155105Z",
     "start_time": "2024-05-08T06:54:28.141101Z"
    }
   },
   "cell_type": "code",
   "source": [
    "net[0].weight.data.normal_(0,0.01)\n",
    "net[0].bias.data.fill_(0)"
   ],
   "id": "35825a2c33296141",
   "execution_count": 99,
   "outputs": []
  },
  {
   "metadata": {
    "ExecuteTime": {
     "end_time": "2024-05-08T06:54:28.171142Z",
     "start_time": "2024-05-08T06:54:28.156105Z"
    }
   },
   "cell_type": "code",
   "source": "loss = nn.MSELoss()",
   "id": "9429edc64773ec5c",
   "execution_count": 100,
   "outputs": []
  },
  {
   "metadata": {
    "ExecuteTime": {
     "end_time": "2024-05-08T06:54:28.186149Z",
     "start_time": "2024-05-08T06:54:28.172142Z"
    }
   },
   "cell_type": "code",
   "source": "trainer = torch.optim.SGD(net.parameters(), lr=0.03)",
   "id": "d1677500c4eb1f2",
   "execution_count": 101,
   "outputs": []
  },
  {
   "metadata": {
    "ExecuteTime": {
     "end_time": "2024-05-08T06:54:28.313175Z",
     "start_time": "2024-05-08T06:54:28.187146Z"
    }
   },
   "cell_type": "code",
   "source": [
    "num_epochs = 3\n",
    "for epoch in range(num_epochs):\n",
    "    for X,y in data_iter:\n",
    "        l = loss(net(X), y)\n",
    "        trainer.zero_grad()\n",
    "        l.backward()\n",
    "        trainer.step()\n",
    "    l = loss(net(features), labels)\n",
    "    print(f'epoch {epoch}, loss: {l:f}')"
   ],
   "id": "f26ee95412e7ad9d",
   "execution_count": 102,
   "outputs": []
  },
  {
   "metadata": {},
   "cell_type": "code",
   "execution_count": null,
   "source": "",
   "id": "5452ba14bc7a0f31",
   "outputs": []
  }
 ],
 "metadata": {
  "kernelspec": {
   "display_name": "Python 3",
   "language": "python",
   "name": "python3"
  },
  "language_info": {
   "codemirror_mode": {
    "name": "ipython",
    "version": 2
   },
   "file_extension": ".py",
   "mimetype": "text/x-python",
   "name": "python",
   "nbconvert_exporter": "python",
   "pygments_lexer": "ipython2",
   "version": "2.7.6"
  }
 },
 "nbformat": 4,
 "nbformat_minor": 5
}
