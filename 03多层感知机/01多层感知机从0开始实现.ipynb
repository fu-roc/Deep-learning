{
 "cells": [
  {
   "cell_type": "code",
   "execution_count": 1,
   "id": "initial_id",
   "metadata": {
    "ExecuteTime": {
     "end_time": "2024-05-14T01:08:43.086744Z",
     "start_time": "2024-05-14T01:08:37.358877Z"
    }
   },
   "source": [
    "import torch\n",
    "from torch import nn\n",
    "from d2l import torch as d2l"
   ],
   "outputs": []
  },
  {
   "cell_type": "code",
   "execution_count": 2,
   "id": "15617914f5b8f5d8",
   "metadata": {
    "ExecuteTime": {
     "end_time": "2024-05-14T01:09:01.532221Z",
     "start_time": "2024-05-14T01:09:01.499213Z"
    }
   },
   "source": [
    "batch_size = 256\n",
    "train_iter, test_iter = d2l.load_data_fashion_mnist(batch_size)"
   ],
   "outputs": []
  },
  {
   "cell_type": "code",
   "execution_count": 3,
   "id": "71016c7c33d08421",
   "metadata": {
    "ExecuteTime": {
     "end_time": "2024-05-14T01:23:46.326779Z",
     "start_time": "2024-05-14T01:23:46.311775Z"
    }
   },
   "source": [
    "num_inputs = 784\n",
    "num_outputs = 10\n",
    "num_hiddens = 256\n",
    "W1 = nn.Parameter(torch.randn(num_inputs, num_hiddens, requires_grad=True) * 0.01)\n",
    "b1 = nn.Parameter(torch.zeros(num_hiddens, requires_grad=True))\n",
    "W2 = nn.Parameter(torch.randn(num_hiddens, num_outputs, requires_grad=True) * 0.01)\n",
    "b2 = nn.Parameter(torch.zeros(num_outputs, requires_grad=True))\n",
    "params = [W1, b1, W2, b2]"
   ],
   "outputs": []
  },
  {
   "cell_type": "code",
   "execution_count": 4,
   "id": "8c92b0de6cdd9c0",
   "metadata": {
    "ExecuteTime": {
     "end_time": "2024-05-14T01:17:12.739563Z",
     "start_time": "2024-05-14T01:17:12.732562Z"
    }
   },
   "source": [
    "def relu(X):\n",
    "    a = torch.zeros_like(X)\n",
    "    return torch.max(X, a)"
   ],
   "outputs": []
  },
  {
   "cell_type": "code",
   "execution_count": 5,
   "id": "a9843b53fb984ed4",
   "metadata": {
    "ExecuteTime": {
     "end_time": "2024-05-14T01:18:37.524228Z",
     "start_time": "2024-05-14T01:18:37.514225Z"
    }
   },
   "source": [
    "def net(X):\n",
    "    X = X.reshape(-1, num_inputs)\n",
    "    H = relu(X@W1 + b1)\n",
    "    return relu(H@W2 + b2)"
   ],
   "outputs": []
  },
  {
   "cell_type": "code",
   "execution_count": 6,
   "id": "f3696b84bd829e04",
   "metadata": {
    "ExecuteTime": {
     "end_time": "2024-05-14T01:19:06.464975Z",
     "start_time": "2024-05-14T01:19:06.449971Z"
    }
   },
   "source": [
    "loss = nn.CrossEntropyLoss(reduction='none')"
   ],
   "outputs": []
  },
  {
   "cell_type": "code",
   "execution_count": 7,
   "id": "7bf685da5f4fe455",
   "metadata": {
    "jupyter": {
     "is_executing": true
    }
   },
   "source": [
    "num_epochs, lr = 10, 0.1\n",
    "updater = torch.optim.SGD(params, lr=lr)\n",
    "d2l.train_ch3(net, train_iter, test_iter, loss, num_epochs, updater)"
   ],
   "outputs": []
  },
  {
   "cell_type": "code",
   "id": "1b5a2fbac5643b44",
   "metadata": {
    "ExecuteTime": {
     "end_time": "2024-05-14T01:29:20.908249Z",
     "start_time": "2024-05-14T01:29:18.319591Z"
    }
   },
   "source": "d2l.predict_ch3(net, test_iter)",
   "execution_count": 8,
   "outputs": []
  },
  {
   "cell_type": "code",
   "execution_count": null,
   "id": "87fc16fedfe333c0",
   "metadata": {
    "ExecuteTime": {
     "end_time": "2024-05-14T01:23:09.458233Z",
     "start_time": "2024-05-14T01:23:09.447231Z"
    }
   },
   "source": [
    "28*28"
   ],
   "outputs": []
  }
 ],
 "metadata": {
  "kernelspec": {
   "display_name": "Python 3 (ipykernel)",
   "language": "python",
   "name": "python3"
  },
  "language_info": {
   "codemirror_mode": {
    "name": "ipython",
    "version": 3
   },
   "file_extension": ".py",
   "mimetype": "text/x-python",
   "name": "python",
   "nbconvert_exporter": "python",
   "pygments_lexer": "ipython3",
   "version": "3.9.19"
  }
 },
 "nbformat": 4,
 "nbformat_minor": 5
}
