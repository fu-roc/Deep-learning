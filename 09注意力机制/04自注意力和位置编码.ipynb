{
 "cells": [
  {
   "cell_type": "code",
   "id": "initial_id",
   "metadata": {
    "collapsed": true,
    "ExecuteTime": {
     "end_time": "2024-07-23T07:01:04.530346Z",
     "start_time": "2024-07-23T07:01:01.443238Z"
    }
   },
   "source": [
    "import math\n",
    "import torch\n",
    "from torch import nn\n",
    "from d2l import torch as d2l"
   ],
   "outputs": [],
   "execution_count": 1
  },
  {
   "metadata": {
    "ExecuteTime": {
     "end_time": "2024-07-23T07:12:40.990675Z",
     "start_time": "2024-07-23T07:12:40.976671Z"
    }
   },
   "cell_type": "code",
   "source": [
    "class PositionEncoding(nn.Module):\n",
    "    def __init__(self, num_hiddens, dropout, max_len=1000):\n",
    "        super().__init__()\n",
    "        self.dropout = nn.Dropout(p=dropout)\n",
    "        self.P = torch.zeros((1, max_len, num_hiddens))\n",
    "        X = torch.arange(max_len, dtype=torch.float32).reshape(-1,1) / torch.pow(1000, torch.arange(0, num_hiddens, 2, dtype=torch.float32) / num_hiddens)\n",
    "        self.P[:, :, 0::2] = torch.sin(X)\n",
    "        self.P[:, :, 1::2] = torch.cos(X)\n",
    "        \n",
    "    def forward(self, X):\n",
    "        X = X + self.P[:, :X.shape[1], :].to(X.device)\n",
    "        return self.dropout(X)"
   ],
   "id": "2aa097634c85fd7",
   "outputs": [],
   "execution_count": 2
  },
  {
   "metadata": {
    "ExecuteTime": {
     "end_time": "2024-07-23T07:20:25.048Z",
     "start_time": "2024-07-23T07:20:25.033997Z"
    }
   },
   "cell_type": "code",
   "source": [
    "encoding_dim, num_steps = 32, 60\n",
    "pos_encoding = PositionEncoding(encoding_dim, 0)\n",
    "pos_encoding.eval()\n",
    "X = pos_encoding(torch.zeros((1, num_steps, encoding_dim)))\n",
    "P = pos_encoding.P[:, :X.shape[1], :]"
   ],
   "id": "ba85b3b35451ce4b",
   "outputs": [
    {
     "name": "stdout",
     "output_type": "stream",
     "text": [
      "torch.Size([1000, 16])\n",
      "torch.Size([1, 1000, 32])\n"
     ]
    }
   ],
   "execution_count": 3
  },
  {
   "metadata": {
    "ExecuteTime": {
     "end_time": "2024-07-23T07:26:44.101849Z",
     "start_time": "2024-07-23T07:26:44.084840Z"
    }
   },
   "cell_type": "code",
   "source": "X.shape",
   "id": "b3d5fab708f8f573",
   "outputs": [
    {
     "data": {
      "text/plain": [
       "torch.Size([1, 60, 32])"
      ]
     },
     "execution_count": 13,
     "metadata": {},
     "output_type": "execute_result"
    }
   ],
   "execution_count": 13
  },
  {
   "metadata": {
    "ExecuteTime": {
     "end_time": "2024-07-23T07:23:47.828967Z",
     "start_time": "2024-07-23T07:23:47.824964Z"
    }
   },
   "cell_type": "code",
   "source": "a1 = torch.arange(1000, dtype=torch.float32).reshape(-1,1)",
   "id": "e01b8a20d8d7ab01",
   "outputs": [],
   "execution_count": 9
  },
  {
   "metadata": {
    "ExecuteTime": {
     "end_time": "2024-07-23T07:23:50.357865Z",
     "start_time": "2024-07-23T07:23:50.343860Z"
    }
   },
   "cell_type": "code",
   "source": "a2 = torch.pow(1000, torch.arange(0, 32, 2, dtype=torch.float32) / 32)",
   "id": "7993aee150f4362e",
   "outputs": [],
   "execution_count": 10
  },
  {
   "metadata": {
    "ExecuteTime": {
     "end_time": "2024-07-23T07:24:30.001556Z",
     "start_time": "2024-07-23T07:24:29.991443Z"
    }
   },
   "cell_type": "code",
   "source": "a1.shape, a2.shape, (a1 / a2).shape",
   "id": "c398c8db83ad98c2",
   "outputs": [
    {
     "data": {
      "text/plain": [
       "(torch.Size([1000, 1]), torch.Size([16]), torch.Size([1000, 16]))"
      ]
     },
     "execution_count": 12,
     "metadata": {},
     "output_type": "execute_result"
    }
   ],
   "execution_count": 12
  },
  {
   "metadata": {},
   "cell_type": "code",
   "outputs": [],
   "execution_count": null,
   "source": "",
   "id": "f3bfad38b26179bc"
  }
 ],
 "metadata": {
  "kernelspec": {
   "display_name": "Python 3",
   "language": "python",
   "name": "python3"
  },
  "language_info": {
   "codemirror_mode": {
    "name": "ipython",
    "version": 2
   },
   "file_extension": ".py",
   "mimetype": "text/x-python",
   "name": "python",
   "nbconvert_exporter": "python",
   "pygments_lexer": "ipython2",
   "version": "2.7.6"
  }
 },
 "nbformat": 4,
 "nbformat_minor": 5
}
