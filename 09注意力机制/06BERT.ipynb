{
 "cells": [
  {
   "cell_type": "code",
   "id": "initial_id",
   "metadata": {
    "collapsed": true,
    "ExecuteTime": {
     "end_time": "2024-07-31T02:29:45.746663Z",
     "start_time": "2024-07-31T02:29:38.125887Z"
    }
   },
   "source": [
    "import torch\n",
    "from torch import nn\n",
    "from d2l import torch as d2l"
   ],
   "outputs": [],
   "execution_count": 2
  },
  {
   "metadata": {
    "ExecuteTime": {
     "end_time": "2024-07-31T02:29:45.762667Z",
     "start_time": "2024-07-31T02:29:45.747664Z"
    }
   },
   "cell_type": "code",
   "source": [
    "def get_tokens_and_segments(tokens_a, tokens_b=None):\n",
    "    tokens = ['<cls>'] + tokens_a + ['<sep>']\n",
    "    segments = [0] * (len(tokens_a) + 2)\n",
    "    if tokens_b is not None:\n",
    "        tokens += tokens_b + ['<sep>']\n",
    "        segments += [1] * (len(tokens_b) + 1)\n",
    "    return tokens, segments"
   ],
   "id": "edcbcbf91b7340c2",
   "outputs": [],
   "execution_count": 3
  },
  {
   "metadata": {
    "ExecuteTime": {
     "end_time": "2024-07-31T02:29:45.778670Z",
     "start_time": "2024-07-31T02:29:45.763667Z"
    }
   },
   "cell_type": "code",
   "source": [
    "class BERTEncoder(nn.Module):\n",
    "    def __init__(self, vocab_size, num_hiddens, norm_shape, ffn_num_input, ffn_num_hiddens, num_head, num_layers, dropout, max_len=1000, key_size=768, query_size=768, value_size=768, **kwargs):\n",
    "        super().__init__(**kwargs)\n",
    "        self.token_embedding = nn.Embedding(vocab_size, num_hiddens)\n",
    "        self.segment_embedding = nn.Embedding(2, num_hiddens)\n",
    "        self.blks = nn.Sequential()\n",
    "        for i in range(num_layers):\n",
    "            self.blks.add_module(f'blk_{i}', d2l.EncoderBlock(key_size, query_size, value_size, num_hiddens, norm_shape, ffn_num_input, ffn_num_hiddens, num_head, dropout, True))\n",
    "        self.pos_embedding = nn.Parameter(torch.randn(1, max_len, num_hiddens))\n",
    "        \n",
    "    def forward(self, tokens, segments, valid_lens):\n",
    "        X = self.token_embedding(tokens) + self.segment_embedding(segments)\n",
    "        X = X + self.pos_embedding.data[:, :X.shape[1], :]\n",
    "        for blk in self.blks:\n",
    "            X = blk(X, valid_lens)\n",
    "        return X"
   ],
   "id": "7bb486d12efd16d9",
   "outputs": [],
   "execution_count": 4
  },
  {
   "metadata": {
    "ExecuteTime": {
     "end_time": "2024-07-31T02:29:46.058723Z",
     "start_time": "2024-07-31T02:29:45.780671Z"
    }
   },
   "cell_type": "code",
   "source": [
    "vocab_size, num_hiddens, ffn_num_hiddens, num_heads = 10000, 768, 1024, 4\n",
    "norm_shape, ffn_num_input, num_layers, dropout = [768], 768, 2, 0.2\n",
    "encoder = BERTEncoder(vocab_size, num_hiddens, norm_shape, ffn_num_input,\n",
    "                      ffn_num_hiddens, num_heads, num_layers, dropout)"
   ],
   "id": "6a9200b729004229",
   "outputs": [],
   "execution_count": 5
  },
  {
   "metadata": {
    "ExecuteTime": {
     "end_time": "2024-07-31T02:29:46.136227Z",
     "start_time": "2024-07-31T02:29:46.059723Z"
    }
   },
   "cell_type": "code",
   "source": [
    "tokens = torch.randint(0, vocab_size, (2, 8))\n",
    "segments = torch.tensor([[0, 0, 0, 0, 1, 1, 1, 1], [0, 0, 0, 1, 1, 1, 1, 1]])\n",
    "encoded_X = encoder(tokens, segments, None)\n",
    "encoded_X.shape"
   ],
   "id": "1f5ac6ba2fc350f4",
   "outputs": [
    {
     "data": {
      "text/plain": [
       "torch.Size([2, 8, 768])"
      ]
     },
     "execution_count": 6,
     "metadata": {},
     "output_type": "execute_result"
    }
   ],
   "execution_count": 6
  },
  {
   "metadata": {
    "ExecuteTime": {
     "end_time": "2024-07-31T02:29:46.152232Z",
     "start_time": "2024-07-31T02:29:46.137226Z"
    }
   },
   "cell_type": "code",
   "source": [
    "class MaskedLM(nn.Module):\n",
    "    def __init__(self, vocab_size, num_hiddens, num_inputs=768, **kwargs):\n",
    "        super().__init__(**kwargs)\n",
    "        self.mlp = nn.Sequential(\n",
    "            nn.Linear(num_inputs, num_hiddens),\n",
    "            nn.ReLU(),\n",
    "            nn.LayerNorm(),\n",
    "            nn.Linear(num_hiddens, vocab_size)\n",
    "        )\n",
    "        \n",
    "        def forward(self, X, pred_positions):\n",
    "            num_pred_positions = pred_positions.shape[1]\n",
    "            pred_positions = pred_positions.reshape(-1)\n",
    "            batch_size = X.shape[0]\n",
    "            batch_idx = torch.arange(0, batch_size)\n",
    "            batch_idx = torch.repeat_interleave(batch_idx, num_pred_positions)\n",
    "            masked_X = X[batch_idx, pred_positions]\n",
    "            masked_X = masked_X.reshape((batch_size, num_pred_positions, -1))\n",
    "            mlm_Y_hat = self.mlp(masked_X)\n",
    "            return mlm_Y_hat"
   ],
   "id": "4a4f259d338e6142",
   "outputs": [],
   "execution_count": 7
  },
  {
   "metadata": {
    "ExecuteTime": {
     "end_time": "2024-07-31T02:29:46.168234Z",
     "start_time": "2024-07-31T02:29:46.153232Z"
    }
   },
   "cell_type": "code",
   "source": [
    "class NextSentencePred(nn.Module):\n",
    "    def __init__(self, num_inputs, **kwargs):\n",
    "        super().__init__(**kwargs)\n",
    "        self.output = nn.Linear(num_inputs, 2)\n",
    "    \n",
    "    def forward(self, X):\n",
    "        self.output(X)\n",
    "        "
   ],
   "id": "6d9b088fad17a79e",
   "outputs": [],
   "execution_count": 8
  },
  {
   "metadata": {
    "ExecuteTime": {
     "end_time": "2024-07-31T02:42:39.836987Z",
     "start_time": "2024-07-31T02:42:39.820982Z"
    }
   },
   "cell_type": "code",
   "source": [
    "class BERTModel(nn.Module):\n",
    "    def __init__(self, vocab_size, num_hiddens, norm_shape, ffn_num_input, ffn_num_hiddens, num_heads, num_layers, dropout, max_len=1000, key_size=768, query_size=768, value_size=768, hid_in_features=768, mlm_in_features=768, nsp_in_features=768):\n",
    "        super().__init__()\n",
    "        self.encoder = BERTEncoder(vocab_size, num_hiddens, norm_shape, ffn_num_input, ffn_num_hiddens, num_heads, num_layers, dropout, max_len, key_size)\n",
    "        self.hidden = nn.Sequential(nn.Linear(hid_in_features, num_hiddens), nn.Tanh())\n",
    "        self.mlm = MaskedLM(vocab_size, num_hiddens, mlm_in_features)\n",
    "        self.nsp = NextSentencePred(nsp_in_features)\n",
    "        \n",
    "    def forward(self, tokens, segments, valid_lens = None, pred_positions = None):\n",
    "        encoder_X = self.encoder(tokens, segments, valid_lens)\n",
    "        if pred_positions is not None:\n",
    "            mlm_Y_hat = self.mlm(encoder_X, pred_positions)\n",
    "        else:\n",
    "            mlm_Y_hat = None\n",
    "        nsp_Y_hat = self.nsp(self.hidden(encoded_X[:, 0, :]))\n",
    "        return encoded_X, mlm_Y_hat, nsp_Y_hat"
   ],
   "id": "c7472ddf5093c270",
   "outputs": [],
   "execution_count": 10
  },
  {
   "metadata": {
    "ExecuteTime": {
     "end_time": "2024-07-31T03:16:26.201835Z",
     "start_time": "2024-07-31T03:16:26.189832Z"
    }
   },
   "cell_type": "code",
   "source": "s= torch.tensor([[0, 1], [1, 1]])",
   "id": "607bc85394f7391b",
   "outputs": [],
   "execution_count": 28
  },
  {
   "metadata": {
    "ExecuteTime": {
     "end_time": "2024-07-31T03:19:19.220999Z",
     "start_time": "2024-07-31T03:19:19.203996Z"
    }
   },
   "cell_type": "code",
   "source": "segments_embedding = nn.Embedding(2,1)",
   "id": "4014a18d7dc059a6",
   "outputs": [],
   "execution_count": 32
  },
  {
   "metadata": {
    "ExecuteTime": {
     "end_time": "2024-07-31T03:19:19.611550Z",
     "start_time": "2024-07-31T03:19:19.605548Z"
    }
   },
   "cell_type": "code",
   "source": "segments_embedding(s)",
   "id": "c84cf6ee4412afe6",
   "outputs": [
    {
     "data": {
      "text/plain": [
       "tensor([[[-2.2101],\n",
       "         [-0.7380]],\n",
       "\n",
       "        [[-0.7380],\n",
       "         [-0.7380]]], grad_fn=<EmbeddingBackward0>)"
      ]
     },
     "execution_count": 33,
     "metadata": {},
     "output_type": "execute_result"
    }
   ],
   "execution_count": 33
  },
  {
   "metadata": {
    "ExecuteTime": {
     "end_time": "2024-07-31T03:19:34.676185Z",
     "start_time": "2024-07-31T03:19:34.665183Z"
    }
   },
   "cell_type": "code",
   "source": "segments_embedding(s).shape",
   "id": "245d906508679228",
   "outputs": [
    {
     "data": {
      "text/plain": [
       "torch.Size([2, 2, 1])"
      ]
     },
     "execution_count": 34,
     "metadata": {},
     "output_type": "execute_result"
    }
   ],
   "execution_count": 34
  },
  {
   "metadata": {},
   "cell_type": "code",
   "outputs": [],
   "execution_count": null,
   "source": "",
   "id": "52c46d2097c5cd6d"
  }
 ],
 "metadata": {
  "kernelspec": {
   "display_name": "Python 3",
   "language": "python",
   "name": "python3"
  },
  "language_info": {
   "codemirror_mode": {
    "name": "ipython",
    "version": 2
   },
   "file_extension": ".py",
   "mimetype": "text/x-python",
   "name": "python",
   "nbconvert_exporter": "python",
   "pygments_lexer": "ipython2",
   "version": "2.7.6"
  }
 },
 "nbformat": 4,
 "nbformat_minor": 5
}
