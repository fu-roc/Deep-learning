{
 "cells": [
  {
   "metadata": {},
   "cell_type": "markdown",
   "source": "多头注意力",
   "id": "c2173b0ff0343d4f"
  },
  {
   "metadata": {
    "ExecuteTime": {
     "end_time": "2024-07-24T02:57:33.512800Z",
     "start_time": "2024-07-24T02:57:26.294525Z"
    }
   },
   "cell_type": "code",
   "source": [
    "import torch\n",
    "import math\n",
    "from torch import nn\n",
    "from d2l import torch as d2l"
   ],
   "id": "37d0e0c5fe172110",
   "outputs": [],
   "execution_count": 1
  },
  {
   "metadata": {
    "ExecuteTime": {
     "end_time": "2024-07-24T03:19:56.749882Z",
     "start_time": "2024-07-24T03:19:56.741880Z"
    }
   },
   "cell_type": "code",
   "source": [
    "class MultiHeadAttention(nn.Module):\n",
    "    def __init__(self, key_size, query_size, value_size, num_hiddens, num_heads, dropout, bias=False, **kwargs):\n",
    "        super().__init__()\n",
    "        self.num_heads = num_heads\n",
    "        self.attention = d2l.DotProductAttention(dropout)\n",
    "        self.W_q = nn.Linear(query_size, num_hiddens, bias=bias)\n",
    "        self.W_k = nn.Linear(key_size, num_hiddens, bias=bias)\n",
    "        self.W_v = nn.Linear(value_size, num_hiddens, bias=bias)\n",
    "        self.W_o = nn.Linear(num_hiddens, num_hiddens, bias=bias)\n",
    "        \n",
    "    def forward(self, queries, keys, values, valid_len):\n",
    "        queries = transpose_qkv(self.W_q(queries))\n",
    "        keys = transpose_qkv(self.W_k(keys))\n",
    "        values = transpose_qkv(self.W_v(values))\n",
    "        if valid_len is not None:\n",
    "            valid_len = torch.repeat_interleave(valid_len, repeats=self.num_heads, dim=0)\n",
    "            \n",
    "        output = self.attention(queries, keys, values, valid_len)\n",
    "        output_concat = transpose_output(output, self.num_heads)\n",
    "        return self.w_o(output_concat)"
   ],
   "id": "3221fee604f6050c",
   "outputs": [],
   "execution_count": 4
  },
  {
   "metadata": {
    "ExecuteTime": {
     "end_time": "2024-07-24T03:13:12.337605Z",
     "start_time": "2024-07-24T03:13:12.333604Z"
    }
   },
   "cell_type": "code",
   "source": [
    "def transpose_qkv(X, num_heads):\n",
    "    X = X.reshape(X.shape[0], X.shape[1], num_heads,-1)\n",
    "    X = X.permute(0, 2, 1, 3)\n",
    "    return X.reshape(-1, X.shape[2], X.shape[3])"
   ],
   "id": "10047bc92bb239f4",
   "outputs": [],
   "execution_count": 2
  },
  {
   "metadata": {
    "ExecuteTime": {
     "end_time": "2024-07-24T03:15:20.009840Z",
     "start_time": "2024-07-24T03:15:19.996837Z"
    }
   },
   "cell_type": "code",
   "source": [
    "def transpose_output(X, num_heads):\n",
    "    X = X.reshape(-1, num_heads, X.shape[1], X.shape[2])\n",
    "    X = X.permute(0, 2, 1, 3)\n",
    "    return X.reshape(X.shape[0], X.shape[1], -1)"
   ],
   "id": "5c2b4317d551a1d3",
   "outputs": [],
   "execution_count": 3
  },
  {
   "metadata": {},
   "cell_type": "code",
   "outputs": [],
   "execution_count": null,
   "source": "def tran",
   "id": "a372b0bc32748352"
  }
 ],
 "metadata": {
  "kernelspec": {
   "display_name": "Python 3",
   "language": "python",
   "name": "python3"
  },
  "language_info": {
   "codemirror_mode": {
    "name": "ipython",
    "version": 2
   },
   "file_extension": ".py",
   "mimetype": "text/x-python",
   "name": "python",
   "nbconvert_exporter": "python",
   "pygments_lexer": "ipython2",
   "version": "2.7.6"
  }
 },
 "nbformat": 4,
 "nbformat_minor": 5
}
